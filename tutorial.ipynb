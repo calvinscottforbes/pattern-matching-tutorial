{
 "cells": [
  {
   "cell_type": "markdown",
   "metadata": {},
   "source": [
    "# References\n",
    "## PEPs\n",
    "\n",
    ">634 - https://www.python.org/dev/peps/pep-0634  \n",
    "635 - https://www.python.org/dev/peps/pep-0635  \n",
    "636 - https://www.python.org/dev/peps/pep-0636  \n",
    "\t\n",
    "\n",
    "## Tutorials\n",
    "\n",
    ">1. Introduction to Structural Pattern Matching - https://www.youtube.com/watch?v=n7rNgz4uyZk&t=3072s\n",
    ">2. https://benhoyt.com/writings/python-pattern-matching/\n",
    "\n"
   ]
  },
  {
   "cell_type": "markdown",
   "metadata": {},
   "source": [
    "# Intro"
   ]
  },
  {
   "cell_type": "markdown",
   "metadata": {},
   "source": [
    "\"Python has a new switch statement\""
   ]
  },
  {
   "cell_type": "code",
   "execution_count": null,
   "metadata": {},
   "outputs": [],
   "source": [
    "a = 0\n",
    "match a:\n",
    "    case 0:\n",
    "        print(\"case 0\")\n",
    "    case 1:\n",
    "        print(\"case 1\")\n",
    "    "
   ]
  },
  {
   "cell_type": "markdown",
   "metadata": {},
   "source": [
    "It's not very fun. You can use if statements."
   ]
  },
  {
   "cell_type": "code",
   "execution_count": null,
   "metadata": {},
   "outputs": [],
   "source": [
    "if a == 0:\n",
    "    print(\"case 0\")\n",
    "elif a == 1:\n",
    "    print(\"case 1\")\n"
   ]
  },
  {
   "cell_type": "markdown",
   "metadata": {},
   "source": [
    "Structural Pattern Matching can do some much more."
   ]
  },
  {
   "cell_type": "markdown",
   "metadata": {},
   "source": [
    "### Some Initial comments\n",
    "* If you want to be cool you can use PatMa (Pattern Matching)\n",
    "* Match and case are just like if, else, for, etc. Keyword, colon, indented block\n",
    "* \"match and case are not real keywords but “soft keywords”, meaning they only operate as keywords in a match ... case block. This is by design, because people use match as a variable name all the time – I almost always use a variable named match as the result of a regex match.\" <sup>2</sup>\n",
    "* First to match rule and increasingly general patterns matching wider sets of subjects"
   ]
  },
  {
   "cell_type": "markdown",
   "metadata": {},
   "source": [
    "## Types\n",
    "\n",
    "We can match on types. We can do custom classes as well, but we'll see that later."
   ]
  },
  {
   "cell_type": "code",
   "execution_count": null,
   "metadata": {},
   "outputs": [],
   "source": [
    "for i in [39, \"39\"]:\n",
    "    match i:\n",
    "        case str():\n",
    "            print(\"It's a string\")\n",
    "        case int():\n",
    "            print(\"It's an integer\")"
   ]
  },
  {
   "cell_type": "markdown",
   "metadata": {},
   "source": [
    "## Guard statement\n",
    "\n",
    "Add conditions to case statements"
   ]
  },
  {
   "cell_type": "code",
   "execution_count": null,
   "metadata": {},
   "outputs": [],
   "source": [
    "for i in [\"39\", 39, \"10\"]:\n",
    "    match i:\n",
    "        case str() if int(i) > 10:\n",
    "            print(\"It's a string\")\n",
    "        case int() if i > 10:\n",
    "            print(\"It's an Integer\")"
   ]
  },
  {
   "cell_type": "markdown",
   "metadata": {},
   "source": [
    "## Wildcard: _"
   ]
  },
  {
   "cell_type": "code",
   "execution_count": null,
   "metadata": {},
   "outputs": [],
   "source": [
    "for i in [\"39\", 39, \"10\"]:\n",
    "    match i:\n",
    "        case str() if int(i) > 10:\n",
    "            print(\"It's a string\")\n",
    "        case int() if i > 10:\n",
    "            print(\"It's an Integer\")\n",
    "        case _:\n",
    "            print(\"else\")"
   ]
  },
  {
   "cell_type": "code",
   "execution_count": null,
   "metadata": {},
   "outputs": [],
   "source": [
    "for i in [\"39\", 39, \"10\"]:\n",
    "    match i:\n",
    "        case str() if int(i) > 10:\n",
    "            print(\"It's a string\")\n",
    "        case int() if i > 10:\n",
    "            print(\"It's an Integer\")\n",
    "        case lessthanten: # you can change _ to any variable name\n",
    "            print(\"else\")"
   ]
  },
  {
   "cell_type": "markdown",
   "metadata": {},
   "source": [
    "### Pylance and Error handling with Wildcard"
   ]
  },
  {
   "cell_type": "code",
   "execution_count": null,
   "metadata": {},
   "outputs": [],
   "source": [
    "\n",
    "for i in [\"39\", 39, \"10\"]:\n",
    "    match i:\n",
    "        case _:\n",
    "            print(\"else\")\n",
    "        case str() if int(i) > 10:\n",
    "            print(\"It's a string\")\n",
    "        case int() if i > 10:\n",
    "            print(\"It's an Integer\")\n"
   ]
  },
  {
   "cell_type": "markdown",
   "metadata": {},
   "source": [
    "# The Pattern Part\n"
   ]
  },
  {
   "cell_type": "markdown",
   "metadata": {},
   "source": [
    "## Basic"
   ]
  },
  {
   "cell_type": "code",
   "execution_count": null,
   "metadata": {},
   "outputs": [],
   "source": [
    "i = \"yes m'lord\"\n",
    "match i.split():\n",
    "    case \"yes\", object:\n",
    "        print(\"yes <object>\")\n",
    "    case word1, word2:\n",
    "        print(\"two words\")\n",
    "    case _:\n",
    "        print(\"the rest\")"
   ]
  },
  {
   "cell_type": "markdown",
   "metadata": {},
   "source": [
    "Matching in order; \"First to Match\" Rule \n",
    "Use increasingly general patterns matching wider sets of subjects\n",
    "Hence, _ would be last. If you switch the first two cases in the example above, you'll get a different output."
   ]
  },
  {
   "cell_type": "markdown",
   "metadata": {},
   "source": [
    "## Sequences"
   ]
  },
  {
   "cell_type": "markdown",
   "metadata": {},
   "source": [
    "Notice how sequences are represented, each case statement represents it in a different way.  \n",
    "\n",
    "It doesn't matter what kind of sequence; tuple, list, etc.  \n",
    "\n",
    "I wasn't able to find a preferred style for these. So I think you can do what you want. However, in the PEP they use brackets around every sequence check. I prefer using no brackets or parentheses"
   ]
  },
  {
   "cell_type": "code",
   "execution_count": null,
   "metadata": {},
   "outputs": [],
   "source": [
    "for i in [(\"Ello\", \"gov'na\"), [\"Hello\"], [\"Hi\", \"stranger\", \"you're a jerk\"]]:\n",
    "    match i:\n",
    "        case greeting,: # try removing the comma\n",
    "            print(\"case 1\", greeting)\n",
    "        case [greeting, person]: # try removing the brackets\n",
    "            print(\"case 2\", greeting, person)\n",
    "        case (greeting, person, insult):\n",
    "            print(\"case 3\", greeting, person, insult)\n"
   ]
  },
  {
   "cell_type": "markdown",
   "metadata": {},
   "source": [
    "## \"as\" expression"
   ]
  },
  {
   "cell_type": "code",
   "execution_count": null,
   "metadata": {},
   "outputs": [],
   "source": [
    "i = \"yes m'lord\"\n",
    "match i.split():\n",
    "    case \"yes\" as response, object:\n",
    "        print(f\"{response} <object>\")\n",
    "    case word1, word2:\n",
    "        print(\"two words\")\n",
    "    case _:\n",
    "        print(\"the rest\")"
   ]
  },
  {
   "cell_type": "markdown",
   "metadata": {},
   "source": [
    "## Star *\n",
    "\n",
    "Kind of like matching RegEx"
   ]
  },
  {
   "cell_type": "code",
   "execution_count": null,
   "metadata": {},
   "outputs": [],
   "source": [
    "match [\"hair\", \"blonde\", \"long\", \"straight\"]:\n",
    "    case \"hair\", *attributes:\n",
    "        print(\"Hair Attributes: \", *attributes)\n",
    "    case \"beard\", *attributes:\n",
    "        print(\"Beard Attributes: \", *attributes)"
   ]
  },
  {
   "cell_type": "markdown",
   "metadata": {},
   "source": [
    "## OR | Statement"
   ]
  },
  {
   "cell_type": "code",
   "execution_count": null,
   "metadata": {},
   "outputs": [],
   "source": [
    "match [\"hair\", \"blonde\", \"long\", \"straight\"]:\n",
    "    case \"hair\" | \"beard\" | \"leg hair\", *attrubutes:\n",
    "        print(\"Some type of hair: \", *attributes)"
   ]
  },
  {
   "cell_type": "markdown",
   "metadata": {},
   "source": [
    "### Using \"as\" with \"|\""
   ]
  },
  {
   "cell_type": "code",
   "execution_count": null,
   "metadata": {},
   "outputs": [],
   "source": [
    "match [\"leg hair\", \"blonde\", \"long\", \"straight\"]:\n",
    "    case \"hair\" | \"beard\" | \"leg hair\" as hair, *attrubutes:\n",
    "        print(hair, *attributes)"
   ]
  },
  {
   "cell_type": "markdown",
   "metadata": {},
   "source": [
    "## Dictionaries"
   ]
  },
  {
   "cell_type": "markdown",
   "metadata": {},
   "source": [
    "Weather data pulled from NOAA https://www.ncdc.noaa.gov/cdo-web/webservices/v2"
   ]
  },
  {
   "cell_type": "code",
   "execution_count": null,
   "metadata": {},
   "outputs": [],
   "source": [
    "import json\n",
    "\n",
    "with open(\"cleveland_weather.json\", \"r\") as f:\n",
    "    cleveland_weather = json.load(f)[\"results\"]  # getting rid of metadata part\n"
   ]
  },
  {
   "cell_type": "code",
   "execution_count": null,
   "metadata": {},
   "outputs": [],
   "source": [
    "for i in cleveland_weather:\n",
    "    match i:\n",
    "        case {\n",
    "            \"datatype\": \"PRCP\" | \"SNOW\",\n",
    "            \"value\": value,\n",
    "            \"station\": \"GHCND:US1OHCY0016\"\n",
    "            } if value > 0: # Formatting is kind weird\n",
    "            print(i)"
   ]
  },
  {
   "cell_type": "markdown",
   "metadata": {},
   "source": [
    "## Classes"
   ]
  },
  {
   "cell_type": "code",
   "execution_count": null,
   "metadata": {},
   "outputs": [],
   "source": [
    "from dataclasses import dataclass\n",
    "\n",
    "\n",
    "@dataclass\n",
    "class Woodpecker:\n",
    "    \"\"\"bird that punctures trees for bugs\"\"\"\n",
    "\n",
    "    name: str\n",
    "\n",
    "\n",
    "@dataclass\n",
    "class Squirrel:\n",
    "    \"\"\"tree rat\"\"\"\n",
    "\n",
    "    name: str\n",
    "\n",
    "\n",
    "fred = Woodpecker(\"Fred\")\n"
   ]
  },
  {
   "cell_type": "code",
   "execution_count": null,
   "metadata": {},
   "outputs": [],
   "source": [
    "match fred:\n",
    "    case Squirrel() as animal:\n",
    "        print(f\"{animal.name} is a squirrel\")\n",
    "    case Woodpecker() as animal:\n",
    "        print(f\"{animal.name} is a woodpecker\")\n",
    "    case _:\n",
    "        print(\"idk what this thing is\")"
   ]
  },
  {
   "cell_type": "markdown",
   "metadata": {},
   "source": [
    "Note: You aren't actually creating an object. "
   ]
  },
  {
   "cell_type": "markdown",
   "metadata": {},
   "source": [
    "Essentially one thing you're replacing is the isinstance() with an if statement. [PEP 636](https://www.python.org/dev/peps/pep-0636/#:~:text=Rather%20than%20writing%20multiple%20isinstance()%20checks%2C%20you%20can%20use%20patterns%20to%20recognize%20different%20kinds%20of%20objects%2C%20and%20also%20apply%20patterns%20to%20its%20attributes%3A)"
   ]
  },
  {
   "cell_type": "markdown",
   "metadata": {},
   "source": [
    "### Named attributes of classes. Specifying the name attribute within the class call.\n"
   ]
  },
  {
   "cell_type": "code",
   "execution_count": null,
   "metadata": {},
   "outputs": [],
   "source": [
    "match fred:\n",
    "    case Squirrel() as animal:\n",
    "        print(f\"{animal.name} is a squirrel\")\n",
    "    case Woodpecker(name='Andy') as animal:\n",
    "        print(f\"Andy is a woodpecker\")\n",
    "    case Woodpecker(name='Fred') as animal:\n",
    "        print(f\"Fred is a woodpecker\")\n",
    "    case _:\n",
    "        print(\"idk what this thing is\")"
   ]
  },
  {
   "cell_type": "markdown",
   "metadata": {},
   "source": [
    "## Other"
   ]
  },
  {
   "cell_type": "markdown",
   "metadata": {},
   "source": [
    "I lifted this straight from the python discord youtube video.<sup>1</sup>   \n",
    "This shows a small quirk of the feature.   \n",
    "Notice the 3rd output - \"You attack 10 coins\""
   ]
  },
  {
   "cell_type": "code",
   "execution_count": null,
   "metadata": {},
   "outputs": [],
   "source": [
    "commands = ['search', 'attack dragon', 'collect 10 coins', 'collect ruby']\n",
    "for item in commands:\n",
    "    match item.split():\n",
    "        case action, :\n",
    "            print(f\"You {action}\")\n",
    "        case [\"collect\", amount, target]:\n",
    "            print(f\"You {action} {amount} {target}!\")\n",
    "        case [action, target]:\n",
    "            print(f\"You {action} the {target}\")"
   ]
  }
 ],
 "metadata": {
  "interpreter": {
   "hash": "949777d72b0d2535278d3dc13498b2535136f6dfe0678499012e853ee9abcab1"
  },
  "kernelspec": {
   "display_name": "Python 3.10.1 64-bit",
   "language": "python",
   "name": "python3"
  },
  "language_info": {
   "codemirror_mode": {
    "name": "ipython",
    "version": 3
   },
   "file_extension": ".py",
   "mimetype": "text/x-python",
   "name": "python",
   "nbconvert_exporter": "python",
   "pygments_lexer": "ipython3",
   "version": "3.10.1"
  },
  "orig_nbformat": 4
 },
 "nbformat": 4,
 "nbformat_minor": 2
}
