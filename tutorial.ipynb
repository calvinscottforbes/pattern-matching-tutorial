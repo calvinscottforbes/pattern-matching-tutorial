{
 "cells": [
  {
   "cell_type": "markdown",
   "metadata": {},
   "source": [
    "# Intro"
   ]
  },
  {
   "cell_type": "markdown",
   "metadata": {},
   "source": [
    "\"Python has a new switch statement\""
   ]
  },
  {
   "cell_type": "code",
   "execution_count": 3,
   "metadata": {},
   "outputs": [
    {
     "name": "stdout",
     "output_type": "stream",
     "text": [
      "case 0\n"
     ]
    }
   ],
   "source": [
    "a = 0\n",
    "match a:\n",
    "    case 0:\n",
    "        print(\"case 0\")\n",
    "    case 1:\n",
    "        print(\"case 1\")\n",
    "    "
   ]
  },
  {
   "cell_type": "markdown",
   "metadata": {},
   "source": [
    "It's not very fun. You can use if statements."
   ]
  },
  {
   "cell_type": "code",
   "execution_count": 4,
   "metadata": {},
   "outputs": [
    {
     "name": "stdout",
     "output_type": "stream",
     "text": [
      "0\n"
     ]
    }
   ],
   "source": [
    "if a == 0:\n",
    "    print(\"case 0\")\n",
    "elif a == 1:\n",
    "    print(\"case 1\")"
   ]
  },
  {
   "cell_type": "markdown",
   "metadata": {},
   "source": [
    "Structural Pattern Matching can do some much more."
   ]
  },
  {
   "cell_type": "markdown",
   "metadata": {},
   "source": [
    "If you want to be cool you can use PatMa (Pattern Matching)"
   ]
  },
  {
   "cell_type": "markdown",
   "metadata": {},
   "source": [
    "## Types"
   ]
  },
  {
   "cell_type": "code",
   "execution_count": 5,
   "metadata": {},
   "outputs": [
    {
     "name": "stdout",
     "output_type": "stream",
     "text": [
      "It's an integer\n",
      "It's a string\n"
     ]
    }
   ],
   "source": [
    "for i in [39, \"39\"]:\n",
    "    match i:\n",
    "        case str():\n",
    "            print(\"It's a string\")\n",
    "        case int():\n",
    "            print(\"It's an integer\")"
   ]
  },
  {
   "cell_type": "markdown",
   "metadata": {},
   "source": [
    "## Guard statement"
   ]
  },
  {
   "cell_type": "code",
   "execution_count": 6,
   "metadata": {},
   "outputs": [
    {
     "name": "stdout",
     "output_type": "stream",
     "text": [
      "It's a string\n",
      "It's an Integer\n"
     ]
    }
   ],
   "source": [
    "for i in [\"39\", 39, \"10\"]:\n",
    "    match i:\n",
    "        case str() if int(i) > 10:\n",
    "            print(\"It's a string\")\n",
    "        case int() if i > 10:\n",
    "            print(\"It's an Integer\")"
   ]
  },
  {
   "cell_type": "markdown",
   "metadata": {},
   "source": [
    "## Wildcard: _"
   ]
  },
  {
   "cell_type": "code",
   "execution_count": null,
   "metadata": {},
   "outputs": [
    {
     "name": "stdout",
     "output_type": "stream",
     "text": [
      "It's a string\n",
      "It's an Integer\n",
      "else\n"
     ]
    }
   ],
   "source": [
    "for i in [\"39\", 39, \"10\"]:\n",
    "    match i:\n",
    "        case str() if int(i) > 10:\n",
    "            print(\"It's a string\")\n",
    "        case int() if i > 10:\n",
    "            print(\"It's an Integer\")\n",
    "        case _:\n",
    "            print(\"else\")"
   ]
  },
  {
   "cell_type": "markdown",
   "metadata": {},
   "source": [
    "Pylance and Error handling with Wildcard"
   ]
  },
  {
   "cell_type": "code",
   "execution_count": null,
   "metadata": {},
   "outputs": [
    {
     "ename": "SyntaxError",
     "evalue": "wildcard makes remaining patterns unreachable (2776568687.py, line 3)",
     "output_type": "error",
     "traceback": [
      "\u001b[0;36m  File \u001b[0;32m\"/tmp/ipykernel_351/2776568687.py\"\u001b[0;36m, line \u001b[0;32m3\u001b[0m\n",
      "\u001b[0;31m    case _:\u001b[0m\n",
      "\u001b[0m         ^\u001b[0m\n",
      "\u001b[0;31mSyntaxError\u001b[0m\u001b[0;31m:\u001b[0m wildcard makes remaining patterns unreachable\n"
     ]
    }
   ],
   "source": [
    "\n",
    "for i in [\"39\", 39, \"10\"]:\n",
    "    match i:\n",
    "        case _:\n",
    "            print(\"else\")\n",
    "        case str() if int(i) > 10:\n",
    "            print(\"It's a string\")\n",
    "        case int() if i > 10:\n",
    "            print(\"It's an Integer\")\n"
   ]
  },
  {
   "cell_type": "markdown",
   "metadata": {},
   "source": [
    "# The Pattern Part"
   ]
  },
  {
   "cell_type": "code",
   "execution_count": null,
   "metadata": {},
   "outputs": [],
   "source": [
    "i = \"yes m'lord\"\n",
    "match i.split():\n",
    "    case \"yes\", object:\n",
    "        print(\"yes <object>\")\n",
    "    case word1, word2:\n",
    "        print(\"two words\")\n",
    "    case _:\n",
    "        print(\"the rest\")"
   ]
  },
  {
   "cell_type": "markdown",
   "metadata": {},
   "source": [
    "Matching in order; \"First to Match\" Rule \n",
    "Use increasingly general patterns matching wider sets of subjects\n",
    "Hence, _ would be last. If you switch the first two cases in the example above, you'll get a different output."
   ]
  },
  {
   "cell_type": "markdown",
   "metadata": {},
   "source": [
    "## Sequences"
   ]
  },
  {
   "cell_type": "markdown",
   "metadata": {},
   "source": [
    "Notice how sequences are represented, each case statement represents it in a different way\n",
    "\n",
    "It doesn't matter what kind of sequence; tuple, list, etc."
   ]
  },
  {
   "cell_type": "code",
   "execution_count": 9,
   "metadata": {},
   "outputs": [
    {
     "name": "stdout",
     "output_type": "stream",
     "text": [
      "case 2 Ello gov'na\n",
      "case 1 Hello\n",
      "case 3 Hi stranger you're a jerk\n"
     ]
    }
   ],
   "source": [
    "for i in [(\"Ello\", \"gov'na\"), [\"Hello\"], [\"Hi\", \"stranger\", \"you're a jerk\"]]:\n",
    "    match i:\n",
    "        case greeting,: # try removing the comma\n",
    "            print(\"case 1\", greeting)\n",
    "        case [greeting, person]: # try removing the brackets\n",
    "            print(\"case 2\", greeting, person)\n",
    "        case (greeting, person, insult):\n",
    "            print(\"case 3\", greeting, person, insult)\n"
   ]
  },
  {
   "cell_type": "markdown",
   "metadata": {},
   "source": [
    "\"as\" expression"
   ]
  },
  {
   "cell_type": "code",
   "execution_count": 18,
   "metadata": {},
   "outputs": [
    {
     "name": "stdout",
     "output_type": "stream",
     "text": [
      "yes <object>\n"
     ]
    }
   ],
   "source": [
    "i = \"yes m'lord\"\n",
    "match i.split():\n",
    "    case \"yes\" as response, object:\n",
    "        print(f\"{response} <object>\")\n",
    "    case word1, word2:\n",
    "        print(\"two words\")\n",
    "    case _:\n",
    "        print(\"the rest\")"
   ]
  },
  {
   "cell_type": "markdown",
   "metadata": {},
   "source": [
    "Star *\n",
    "\n",
    "Kind of like matching RegEx"
   ]
  },
  {
   "cell_type": "code",
   "execution_count": 24,
   "metadata": {},
   "outputs": [
    {
     "name": "stdout",
     "output_type": "stream",
     "text": [
      "Hair Attributes:  blonde long straight\n"
     ]
    }
   ],
   "source": [
    "match [\"hair\", \"blonde\", \"long\", \"straight\"]:\n",
    "    case \"hair\", *attributes:\n",
    "        print(\"Hair Attributes: \", *attributes)\n",
    "    case \"beard\", *attributes:\n",
    "        print(\"Beard Attributes: \", *attributes)"
   ]
  },
  {
   "cell_type": "markdown",
   "metadata": {},
   "source": [
    "OR | Statement"
   ]
  },
  {
   "cell_type": "code",
   "execution_count": 25,
   "metadata": {},
   "outputs": [
    {
     "name": "stdout",
     "output_type": "stream",
     "text": [
      "Some type of hair:  blonde long straight\n"
     ]
    }
   ],
   "source": [
    "match [\"hair\", \"blonde\", \"long\", \"straight\"]:\n",
    "    case \"hair\" | \"beard\" | \"leg hair\", *attrubutes:\n",
    "        print(\"Some type of hair: \", *attributes)"
   ]
  },
  {
   "cell_type": "markdown",
   "metadata": {},
   "source": [
    "Using \"as\" with \"|\""
   ]
  },
  {
   "cell_type": "code",
   "execution_count": 28,
   "metadata": {},
   "outputs": [
    {
     "name": "stdout",
     "output_type": "stream",
     "text": [
      "leg hair blonde long straight\n"
     ]
    }
   ],
   "source": [
    "match [\"leg hair\", \"blonde\", \"long\", \"straight\"]:\n",
    "    case \"hair\" | \"beard\" | \"leg hair\" as hair, *attrubutes:\n",
    "        print(hair, *attributes)"
   ]
  },
  {
   "cell_type": "markdown",
   "metadata": {},
   "source": [
    "Dictionaries"
   ]
  },
  {
   "cell_type": "code",
   "execution_count": null,
   "metadata": {},
   "outputs": [],
   "source": []
  },
  {
   "cell_type": "markdown",
   "metadata": {},
   "source": [
    "Classes"
   ]
  },
  {
   "cell_type": "code",
   "execution_count": null,
   "metadata": {},
   "outputs": [],
   "source": []
  }
 ],
 "metadata": {
  "interpreter": {
   "hash": "949777d72b0d2535278d3dc13498b2535136f6dfe0678499012e853ee9abcab1"
  },
  "kernelspec": {
   "display_name": "Python 3.10.1 64-bit",
   "language": "python",
   "name": "python3"
  },
  "language_info": {
   "codemirror_mode": {
    "name": "ipython",
    "version": 3
   },
   "file_extension": ".py",
   "mimetype": "text/x-python",
   "name": "python",
   "nbconvert_exporter": "python",
   "pygments_lexer": "ipython3",
   "version": "3.10.1"
  },
  "orig_nbformat": 4
 },
 "nbformat": 4,
 "nbformat_minor": 2
}
